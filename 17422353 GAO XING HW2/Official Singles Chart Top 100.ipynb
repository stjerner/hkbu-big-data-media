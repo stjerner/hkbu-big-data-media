{
 "cells": [
  {
   "cell_type": "code",
   "execution_count": 1,
   "metadata": {},
   "outputs": [],
   "source": [
    "import requests\n",
    "import bs4\n",
    "import csv"
   ]
  },
  {
   "cell_type": "code",
   "execution_count": 17,
   "metadata": {},
   "outputs": [],
   "source": [
    "r = requests.get('http://www.officialcharts.com/charts/singles-chart/')"
   ]
  },
  {
   "cell_type": "code",
   "execution_count": 18,
   "metadata": {},
   "outputs": [
    {
     "name": "stderr",
     "output_type": "stream",
     "text": [
      "/Users/xing/Desktop/q/venv/lib/python3.6/site-packages/bs4/__init__.py:181: UserWarning: No parser was explicitly specified, so I'm using the best available HTML parser for this system (\"html5lib\"). This usually isn't a problem, but if you run this code on another system, or in a different virtual environment, it may use a different parser and behave differently.\n",
      "\n",
      "The code that caused this warning is on line 193 of the file /Library/Frameworks/Python.framework/Versions/3.6/lib/python3.6/runpy.py. To get rid of this warning, change code that looks like this:\n",
      "\n",
      " BeautifulSoup(YOUR_MARKUP})\n",
      "\n",
      "to this:\n",
      "\n",
      " BeautifulSoup(YOUR_MARKUP, \"html5lib\")\n",
      "\n",
      "  markup_type=markup_type))\n"
     ]
    }
   ],
   "source": [
    "mypage = bs4.BeautifulSoup(r.text)"
   ]
  },
  {
   "cell_type": "code",
   "execution_count": 19,
   "metadata": {},
   "outputs": [
    {
     "data": {
      "text/plain": [
       "100"
      ]
     },
     "execution_count": 19,
     "metadata": {},
     "output_type": "execute_result"
    }
   ],
   "source": [
    "len(mypage.find_all('div', attrs={'class':'title'}))"
   ]
  },
  {
   "cell_type": "code",
   "execution_count": 22,
   "metadata": {},
   "outputs": [
    {
     "data": {
      "text/plain": [
       "\"GOD'S PLAN\""
      ]
     },
     "execution_count": 22,
     "metadata": {},
     "output_type": "execute_result"
    }
   ],
   "source": [
    "mynames=mypage.find_all('div', attrs={'class':'title'})\n",
    "myname=mynames[0]\n",
    "myname.find('a').text"
   ]
  },
  {
   "cell_type": "code",
   "execution_count": 25,
   "metadata": {},
   "outputs": [],
   "source": [
    "titles=[]\n",
    "for myname in mynames:\n",
    "    titles.append(myname.find('a').text)"
   ]
  },
  {
   "cell_type": "code",
   "execution_count": 26,
   "metadata": {
    "scrolled": true
   },
   "outputs": [
    {
     "data": {
      "text/plain": [
       "[\"GOD'S PLAN\",\n",
       " 'THESE DAYS',\n",
       " 'IDGAF',\n",
       " 'PSYCHO',\n",
       " 'FRIENDS',\n",
       " 'FEEL IT STILL',\n",
       " 'ALL THE STARS',\n",
       " 'THIS IS ME',\n",
       " 'FOR YOU (FIFTY SHADES FREED)',\n",
       " 'SAY SOMETHING',\n",
       " 'NEVER BE THE SAME',\n",
       " 'PRAY FOR ME',\n",
       " 'BREATHE',\n",
       " 'FINE LINE',\n",
       " 'STRANGERS',\n",
       " 'MY LOVER',\n",
       " 'FINESSE',\n",
       " 'LOOK ALIVE',\n",
       " 'JUMANJI',\n",
       " 'REWRITE THE STARS',\n",
       " 'THE GREATEST SHOW',\n",
       " 'WANT YOU BACK',\n",
       " 'MINE',\n",
       " 'BARKING',\n",
       " 'PERFECT',\n",
       " 'NEW RULES',\n",
       " 'RIVER',\n",
       " 'HIM & I',\n",
       " 'SUPERMARKET FLOWERS',\n",
       " 'PARADISE',\n",
       " 'THE MIDDLE',\n",
       " 'LULLABY',\n",
       " 'CHECK',\n",
       " 'RAPPER',\n",
       " 'BLINDED BY YOUR GRACE - PT 2',\n",
       " 'HAVANA',\n",
       " 'LET ME GO',\n",
       " 'TIP TOE',\n",
       " 'LET ME DOWN',\n",
       " 'BAD',\n",
       " 'CIGARETTE',\n",
       " 'SICK BOY',\n",
       " 'ANYWHERE',\n",
       " 'I KNOW YOU',\n",
       " 'I MISS YOU',\n",
       " 'LOVE LIES',\n",
       " 'WAVEY',\n",
       " 'SHAPE OF YOU',\n",
       " 'ROCKSTAR',\n",
       " 'DANCING',\n",
       " 'CAPITAL LETTERS',\n",
       " 'LET YOU DOWN',\n",
       " '17',\n",
       " 'STIR FRY',\n",
       " 'BAD VIBE',\n",
       " 'MEANT TO BE',\n",
       " \"KING'S DEAD\",\n",
       " 'LEAVE A LIGHT ON',\n",
       " 'SILENCE',\n",
       " 'YOU ARE THE REASON',\n",
       " 'NO WORDS',\n",
       " 'I FALL APART',\n",
       " 'TOO GOOD AT GOODBYES',\n",
       " 'CAME HERE FOR LOVE',\n",
       " 'WILD LOVE',\n",
       " 'DECLINE',\n",
       " 'BOUFF DADDY',\n",
       " 'LOCATION',\n",
       " 'SHE LOVES CONTROL',\n",
       " 'GAME CHANGER',\n",
       " 'X',\n",
       " 'THE WEEKEND',\n",
       " 'NUH READY NUH READY',\n",
       " 'MAKE ME FEEL',\n",
       " '44 MORE',\n",
       " 'SIGN OF THE TIMES',\n",
       " 'HEAVEN',\n",
       " \"MAN'S NOT HOT\",\n",
       " 'DESPACITO (REMIX)',\n",
       " 'HUMAN',\n",
       " 'SKIN',\n",
       " 'WOLVES',\n",
       " 'THE WAYS',\n",
       " 'COLA',\n",
       " 'MAD LOVE',\n",
       " 'YRF',\n",
       " 'I AM',\n",
       " 'FINDERS KEEPERS',\n",
       " 'BIG SHOT',\n",
       " 'NAKED',\n",
       " 'MY MY MY',\n",
       " 'WHAT ABOUT US',\n",
       " 'FILTHY',\n",
       " 'SYMPHONY',\n",
       " 'UNFORGETTABLE',\n",
       " 'MR BRIGHTSIDE',\n",
       " 'TELL ME YOU LOVE ME',\n",
       " 'NEXT TO ME',\n",
       " 'LIKE I DO',\n",
       " 'WALK IT TALK IT']"
      ]
     },
     "execution_count": 26,
     "metadata": {},
     "output_type": "execute_result"
    }
   ],
   "source": [
    "titles"
   ]
  },
  {
   "cell_type": "code",
   "execution_count": 27,
   "metadata": {},
   "outputs": [
    {
     "data": {
      "text/plain": [
       "100"
      ]
     },
     "execution_count": 27,
     "metadata": {},
     "output_type": "execute_result"
    }
   ],
   "source": [
    "len(mypage.find_all('span', attrs={'class':'position'}))"
   ]
  },
  {
   "cell_type": "code",
   "execution_count": 28,
   "metadata": {},
   "outputs": [
    {
     "data": {
      "text/plain": [
       "'1'"
      ]
     },
     "execution_count": 28,
     "metadata": {},
     "output_type": "execute_result"
    }
   ],
   "source": [
    "myranks=mypage.find_all('span', attrs={'class':'position'})\n",
    "myrank=myranks[0]\n",
    "myrank.text"
   ]
  },
  {
   "cell_type": "code",
   "execution_count": 29,
   "metadata": {},
   "outputs": [],
   "source": [
    "ranks=[]\n",
    "for myrank in myranks:\n",
    "    ranks.append(myrank.text)"
   ]
  },
  {
   "cell_type": "raw",
   "metadata": {},
   "source": [
    "ranks"
   ]
  },
  {
   "cell_type": "code",
   "execution_count": 30,
   "metadata": {},
   "outputs": [
    {
     "data": {
      "text/plain": [
       "100"
      ]
     },
     "execution_count": 30,
     "metadata": {},
     "output_type": "execute_result"
    }
   ],
   "source": [
    "len(mypage.find_all('div', attrs={'class':'artist'}))"
   ]
  },
  {
   "cell_type": "code",
   "execution_count": 33,
   "metadata": {},
   "outputs": [
    {
     "data": {
      "text/plain": [
       "'DRAKE'"
      ]
     },
     "execution_count": 33,
     "metadata": {},
     "output_type": "execute_result"
    }
   ],
   "source": [
    "myartists=mypage.find_all('div', attrs={'class':'artist'})\n",
    "myartist=myartists[0]\n",
    "myartist.find('a').text"
   ]
  },
  {
   "cell_type": "code",
   "execution_count": 35,
   "metadata": {},
   "outputs": [],
   "source": [
    "artists=[]\n",
    "for myartist in myartists:\n",
    "    artists.append(myartist.find('a').text)"
   ]
  },
  {
   "cell_type": "code",
   "execution_count": 36,
   "metadata": {},
   "outputs": [
    {
     "data": {
      "text/plain": [
       "['DRAKE',\n",
       " 'RUDIMENTAL/GLYNNE/MACKLEMORE',\n",
       " 'DUA LIPA',\n",
       " 'POST MALONE FT TY DOLLA SIGN',\n",
       " 'MARSHMELLO & ANNE-MARIE',\n",
       " 'PORTUGAL THE MAN',\n",
       " 'KENDRICK LAMAR & SZA',\n",
       " 'SETTLE/GREATEST SHOWMAN ENS',\n",
       " 'LIAM PAYNE/RITA ORA',\n",
       " 'JUSTIN TIMBERLAKE FT STAPLETON',\n",
       " 'CAMILA CABELLO',\n",
       " 'WEEKND/KENDRICK LAMAR',\n",
       " 'JAX JONES FT INA WROLDSEN',\n",
       " 'MABEL FT NOT3S',\n",
       " 'SIGRID',\n",
       " 'NOT3S',\n",
       " 'BRUNO MARS & CARDI B',\n",
       " 'BLOCBOY JB FT DRAKE',\n",
       " 'B YOUNG',\n",
       " 'ZAC EFRON & ZENDAYA',\n",
       " 'JACKMAN/SETTLE/EFRON/ZENDAYA',\n",
       " '5 SECONDS OF SUMMER',\n",
       " 'BAZZI',\n",
       " 'RAMZ',\n",
       " 'ED SHEERAN',\n",
       " 'DUA LIPA',\n",
       " 'EMINEM FT ED SHEERAN',\n",
       " 'G-EAZY & HALSEY',\n",
       " 'ED SHEERAN',\n",
       " 'GEORGE EZRA',\n",
       " 'ZEDD/MAREN MORRIS/GREY',\n",
       " 'SIGALA & PALOMA FAITH',\n",
       " 'KOJO FUNDS FT RAYE',\n",
       " 'HARDY CAPRIO',\n",
       " 'STORMZY FT MNEK',\n",
       " 'CAMILA CABELLO FT YOUNG THUG',\n",
       " 'HAILEE STEINFELD/ALESSO/WATT',\n",
       " 'JASON DERULO FT FRENCH MONTANA',\n",
       " 'JORJA SMITH FT STORMZY',\n",
       " 'STEEL BANGLEZ/YUNGEN/MOSTACK',\n",
       " 'RAYE/MABEL/STEFFLON DON',\n",
       " 'CHAINSMOKERS',\n",
       " 'RITA ORA',\n",
       " 'CRAIG DAVID FT BASTILLE',\n",
       " 'CLEAN BANDIT FT JULIA MICHAELS',\n",
       " 'KHALID & NORMANI',\n",
       " 'CLIQ FT ALIKA',\n",
       " 'ED SHEERAN',\n",
       " 'POST MALONE FT 21 SAVAGE',\n",
       " 'KYLIE MINOGUE',\n",
       " 'HAILEE STEINFELD & BLOODPOP',\n",
       " 'NF',\n",
       " 'MK',\n",
       " 'MIGOS',\n",
       " 'M O/LOTTO BOYZZ/MR EAZI',\n",
       " 'BEBE REXHA FT FLORIDA GEORGIA',\n",
       " 'JAY ROCK/LAMAR/FUTURE/BLAKE',\n",
       " 'TOM WALKER',\n",
       " 'MARSHMELLO FT KHALID',\n",
       " 'CALUM SCOTT',\n",
       " 'DAVE FT MOSTACK',\n",
       " 'POST MALONE',\n",
       " 'SAM SMITH',\n",
       " 'SIGALA & ELLA EYRE',\n",
       " 'JAMES BAY',\n",
       " 'RAYE FT MR EAZI',\n",
       " 'J HUS',\n",
       " 'KHALID',\n",
       " 'CAMILA CABELLO',\n",
       " 'MIST',\n",
       " 'SCHOOLBOY Q/2 CHAINZ/SAUDI',\n",
       " 'SZA',\n",
       " 'CALVIN HARRIS FT PARTYNEXTDOOR',\n",
       " 'JANELLE MONAE',\n",
       " 'LOGIC',\n",
       " 'HARRY STYLES',\n",
       " 'JULIA MICHAELS',\n",
       " 'BIG SHAQ',\n",
       " 'LUIS FONSI/DADDY YANKEE/BIEBER',\n",
       " \"RAG'N'BONE MAN\",\n",
       " \"RAG'N'BONE MAN\",\n",
       " 'SELENA GOMEZ & MARSHMELLO',\n",
       " 'KHALID & SWAE LEE',\n",
       " 'CAMELPHAT & ELDERBROOK',\n",
       " 'SEAN PAUL/GUETTA/BECKY G',\n",
       " 'GRM DAILY',\n",
       " 'JORJA SMITH',\n",
       " 'MABEL FT KOJO FUNDS',\n",
       " 'KENDRICK LAMAR & TRAVIS SCOTT',\n",
       " 'JAMES ARTHUR',\n",
       " 'TROYE SIVAN',\n",
       " 'PINK',\n",
       " 'JUSTIN TIMBERLAKE',\n",
       " 'CLEAN BANDIT FT ZARA LARSSON',\n",
       " 'FRENCH MONTANA FT SWAE LEE',\n",
       " 'KILLERS',\n",
       " 'DEMI LOVATO',\n",
       " 'IMAGINE DRAGONS',\n",
       " 'GUETTA/GARRIX/BROOKS',\n",
       " 'MIGOS FT DRAKE']"
      ]
     },
     "execution_count": 36,
     "metadata": {},
     "output_type": "execute_result"
    }
   ],
   "source": [
    "artists"
   ]
  },
  {
   "cell_type": "code",
   "execution_count": 38,
   "metadata": {},
   "outputs": [
    {
     "data": {
      "text/plain": [
       "100"
      ]
     },
     "execution_count": 38,
     "metadata": {},
     "output_type": "execute_result"
    }
   ],
   "source": [
    "len(mypage.find_all('span', attrs={'class':'label'}))"
   ]
  },
  {
   "cell_type": "code",
   "execution_count": 40,
   "metadata": {},
   "outputs": [
    {
     "data": {
      "text/plain": [
       "'CASH MONEY/REPUBLIC RECORDS'"
      ]
     },
     "execution_count": 40,
     "metadata": {},
     "output_type": "execute_result"
    }
   ],
   "source": [
    "labels=mypage.find_all('span', attrs={'class':'label'})\n",
    "label=labels[0]\n",
    "label.text"
   ]
  },
  {
   "cell_type": "code",
   "execution_count": 41,
   "metadata": {},
   "outputs": [],
   "source": [
    "companys=[]\n",
    "for label in labels:\n",
    "    companys.append(label.text)"
   ]
  },
  {
   "cell_type": "code",
   "execution_count": 42,
   "metadata": {},
   "outputs": [
    {
     "data": {
      "text/plain": [
       "['CASH MONEY/REPUBLIC RECORDS',\n",
       " 'ASYLUM',\n",
       " 'WARNER BROS',\n",
       " 'REPUBLIC RECORDS',\n",
       " 'ASYLUM/ATLANTIC',\n",
       " 'ATLANTIC',\n",
       " 'INTERSCOPE',\n",
       " 'ATLANTIC',\n",
       " 'CAPITOL',\n",
       " 'RCA',\n",
       " 'EPIC/SYCO MUSIC',\n",
       " 'INTERSCOPE/REPUBLIC/XO',\n",
       " 'POLYDOR',\n",
       " 'POLYDOR',\n",
       " 'ISLAND',\n",
       " 'RELENTLESS',\n",
       " 'ATLANTIC',\n",
       " 'WARNER BROS',\n",
       " 'GAME TIME',\n",
       " 'ATLANTIC',\n",
       " 'ATLANTIC',\n",
       " 'CAPITOL',\n",
       " 'ZZZ ENTERTAINMENT',\n",
       " 'POLYDOR',\n",
       " 'ASYLUM',\n",
       " 'WARNER BROS',\n",
       " 'INTERSCOPE',\n",
       " 'RCA',\n",
       " 'ASYLUM',\n",
       " 'COLUMBIA',\n",
       " 'INTERSCOPE',\n",
       " 'MINISTRY OF SOUND',\n",
       " 'ATLANTIC',\n",
       " 'VIRGIN',\n",
       " 'MERKY',\n",
       " 'EPIC/SYCO MUSIC',\n",
       " 'REPUBLIC RECORDS',\n",
       " 'WARNER BROS',\n",
       " 'FAMM',\n",
       " 'WARNER BROS',\n",
       " 'POLYDOR',\n",
       " 'DISRUPTOR',\n",
       " 'ATLANTIC',\n",
       " 'SPEAKERBOX RECORDINGS',\n",
       " 'ATLANTIC/POLYDOR/REPUBLIC',\n",
       " 'RCA',\n",
       " 'COLUMBIA',\n",
       " 'ASYLUM',\n",
       " 'REPUBLIC RECORDS',\n",
       " 'BMG',\n",
       " 'ISLAND',\n",
       " 'EMI',\n",
       " 'COLUMBIA',\n",
       " 'MOTOWN/QUALITY CONTROL',\n",
       " 'POLYDOR',\n",
       " 'PARLOPHONE',\n",
       " 'INTERSCOPE',\n",
       " 'RELENTLESS',\n",
       " 'MINISTRY OF SOUND',\n",
       " 'CAPITOL',\n",
       " 'DAVE',\n",
       " 'REPUBLIC RECORDS',\n",
       " 'CAPITOL',\n",
       " 'MINISTRY OF SOUND',\n",
       " 'REPUBLIC RECORDS',\n",
       " 'POLYDOR',\n",
       " 'BLACK BUTTER',\n",
       " 'RIGHT HAND MUSIC',\n",
       " 'SYCO MUSIC',\n",
       " 'SICKMADE',\n",
       " 'INTERSCOPE',\n",
       " 'RCA/TOP DAWG',\n",
       " 'COLUMBIA',\n",
       " 'BAD BOY',\n",
       " 'DEF JAM',\n",
       " 'COLUMBIA',\n",
       " 'REPUBLIC RECORDS',\n",
       " 'ISLAND',\n",
       " 'DEF JAM/RBMG/REPUBLIC/UMLE',\n",
       " 'BEST LAID PLANS/COLUMBIA',\n",
       " 'BEST LAID PLANS/COLUMBIA',\n",
       " 'INTERSCOPE',\n",
       " 'INTERSCOPE',\n",
       " 'DEFECTED',\n",
       " 'ISLAND',\n",
       " 'PARLOPHONE',\n",
       " 'INTERSCOPE',\n",
       " 'POLYDOR',\n",
       " 'INTERSCOPE',\n",
       " 'SYCO MUSIC',\n",
       " 'POLYDOR',\n",
       " 'RCA',\n",
       " 'RCA',\n",
       " 'ATLANTIC',\n",
       " 'BAD BOY/EPIC',\n",
       " 'MERCURY',\n",
       " 'HOLLYWOOD',\n",
       " 'INTERSCOPE',\n",
       " 'PARLOPHONE',\n",
       " 'MOTOWN/QUALITY CONTROL']"
      ]
     },
     "execution_count": 42,
     "metadata": {},
     "output_type": "execute_result"
    }
   ],
   "source": [
    "companys"
   ]
  },
  {
   "cell_type": "code",
   "execution_count": 43,
   "metadata": {},
   "outputs": [],
   "source": [
    "with open('Official Singles Chart Top 100.csv','w') as f:\n",
    "    writer = csv.writer(f)\n",
    "    header = ['Ranks  ','Titles  ','Artists  ','Companys']\n",
    "    writer.writerow(header)\n",
    "    \n",
    "    writer.writerows(zip(ranks,titles,artists,companys))"
   ]
  },
  {
   "cell_type": "code",
   "execution_count": null,
   "metadata": {},
   "outputs": [],
   "source": []
  }
 ],
 "metadata": {
  "kernelspec": {
   "display_name": "Python 3",
   "language": "python",
   "name": "python3"
  },
  "language_info": {
   "codemirror_mode": {
    "name": "ipython",
    "version": 3
   },
   "file_extension": ".py",
   "mimetype": "text/x-python",
   "name": "python",
   "nbconvert_exporter": "python",
   "pygments_lexer": "ipython3",
   "version": "3.6.4"
  }
 },
 "nbformat": 4,
 "nbformat_minor": 2
}
